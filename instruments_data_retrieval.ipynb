{
 "cells": [
  {
   "metadata": {},
   "cell_type": "markdown",
   "source": [
    "### Instrument data retrieval - Download\n",
    "- For poc purpose we will be using Yahoo finance lib  "
   ],
   "id": "3bf203696e11f7a"
  },
  {
   "cell_type": "code",
   "id": "initial_id",
   "metadata": {
    "collapsed": true,
    "ExecuteTime": {
     "end_time": "2025-09-29T07:01:22.755387Z",
     "start_time": "2025-09-29T07:01:20.495767Z"
    }
   },
   "source": [
    "import yfinance as yf\n",
    "import datetime"
   ],
   "outputs": [],
   "execution_count": 2
  },
  {
   "metadata": {},
   "cell_type": "markdown",
   "source": [
    "### Define Tickers and Time frame\n",
    "- List all ibovespa instruments/tickers"
   ],
   "id": "11553077118ea2f1"
  },
  {
   "metadata": {
    "ExecuteTime": {
     "end_time": "2025-09-29T07:01:24.760543Z",
     "start_time": "2025-09-29T07:01:24.756534Z"
    }
   },
   "cell_type": "code",
   "source": "ticker = \"PETR3.SA\"\n",
   "id": "2fd149362d9c0c09",
   "outputs": [],
   "execution_count": 3
  },
  {
   "metadata": {},
   "cell_type": "code",
   "outputs": [],
   "execution_count": null,
   "source": "",
   "id": "52d2763acbe156fc"
  },
  {
   "metadata": {},
   "cell_type": "code",
   "outputs": [],
   "execution_count": null,
   "source": [
    "today = datetime.date.today()\n",
    "last_six_months = today - datetime.timedelta(days=180)\n",
    "\n",
    "df = yf.download(\n",
    "    ticker,\n",
    "    start=last_six_months,\n",
    "    end=today,\n",
    "    interval=\"1d\"\n",
    ")"
   ],
   "id": "2004b4f990b0a401"
  },
  {
   "metadata": {},
   "cell_type": "markdown",
   "source": "### Validate df columns",
   "id": "dc0d35a94f605604"
  },
  {
   "metadata": {},
   "cell_type": "markdown",
   "source": "### Example of ticker historical data retrieval",
   "id": "2403d5f45028fa8c"
  },
  {
   "metadata": {
    "ExecuteTime": {
     "end_time": "2025-09-29T08:23:56.925709Z",
     "start_time": "2025-09-29T08:23:56.517086Z"
    }
   },
   "cell_type": "code",
   "source": [
    "ticker = yf.Ticker(\"PETR3.SA\")\n",
    "ticker.history(period=\"3y\")"
   ],
   "id": "7e739ff763ed910a",
   "outputs": [
    {
     "data": {
      "text/plain": [
       "                                Open       High        Low      Close  \\\n",
       "Date                                                                    \n",
       "2022-09-26 00:00:00-03:00  17.760194  17.982196  17.570680  17.586924   \n",
       "2022-09-27 00:00:00-03:00  17.819753  17.900974  17.727704  17.798094   \n",
       "2022-09-28 00:00:00-03:00  17.798093  17.868485  17.267453  17.673555   \n",
       "2022-09-29 00:00:00-03:00  17.494875  17.803512  17.354092  17.689802   \n",
       "2022-09-30 00:00:00-03:00  17.603169  18.247518  17.543609  17.911808   \n",
       "...                              ...        ...        ...        ...   \n",
       "2025-09-22 00:00:00-03:00  33.500000  34.099998  33.349998  34.040001   \n",
       "2025-09-23 00:00:00-03:00  34.180000  35.099998  34.090000  34.939999   \n",
       "2025-09-24 00:00:00-03:00  35.290001  35.840000  35.009998  35.830002   \n",
       "2025-09-25 00:00:00-03:00  35.779999  36.020000  35.130001  35.200001   \n",
       "2025-09-26 00:00:00-03:00  35.320000  35.759998  34.849998  34.980000   \n",
       "\n",
       "                             Volume  Dividends  Stock Splits  \n",
       "Date                                                          \n",
       "2022-09-26 00:00:00-03:00  18230500        0.0           0.0  \n",
       "2022-09-27 00:00:00-03:00  17568400        0.0           0.0  \n",
       "2022-09-28 00:00:00-03:00  17529400        0.0           0.0  \n",
       "2022-09-29 00:00:00-03:00  24350900        0.0           0.0  \n",
       "2022-09-30 00:00:00-03:00  28412400        0.0           0.0  \n",
       "...                             ...        ...           ...  \n",
       "2025-09-22 00:00:00-03:00   6264100        0.0           0.0  \n",
       "2025-09-23 00:00:00-03:00  11811300        0.0           0.0  \n",
       "2025-09-24 00:00:00-03:00  10875100        0.0           0.0  \n",
       "2025-09-25 00:00:00-03:00   9525200        0.0           0.0  \n",
       "2025-09-26 00:00:00-03:00   7818900        0.0           0.0  \n",
       "\n",
       "[751 rows x 7 columns]"
      ],
      "text/html": [
       "<div>\n",
       "<style scoped>\n",
       "    .dataframe tbody tr th:only-of-type {\n",
       "        vertical-align: middle;\n",
       "    }\n",
       "\n",
       "    .dataframe tbody tr th {\n",
       "        vertical-align: top;\n",
       "    }\n",
       "\n",
       "    .dataframe thead th {\n",
       "        text-align: right;\n",
       "    }\n",
       "</style>\n",
       "<table border=\"1\" class=\"dataframe\">\n",
       "  <thead>\n",
       "    <tr style=\"text-align: right;\">\n",
       "      <th></th>\n",
       "      <th>Open</th>\n",
       "      <th>High</th>\n",
       "      <th>Low</th>\n",
       "      <th>Close</th>\n",
       "      <th>Volume</th>\n",
       "      <th>Dividends</th>\n",
       "      <th>Stock Splits</th>\n",
       "    </tr>\n",
       "    <tr>\n",
       "      <th>Date</th>\n",
       "      <th></th>\n",
       "      <th></th>\n",
       "      <th></th>\n",
       "      <th></th>\n",
       "      <th></th>\n",
       "      <th></th>\n",
       "      <th></th>\n",
       "    </tr>\n",
       "  </thead>\n",
       "  <tbody>\n",
       "    <tr>\n",
       "      <th>2022-09-26 00:00:00-03:00</th>\n",
       "      <td>17.760194</td>\n",
       "      <td>17.982196</td>\n",
       "      <td>17.570680</td>\n",
       "      <td>17.586924</td>\n",
       "      <td>18230500</td>\n",
       "      <td>0.0</td>\n",
       "      <td>0.0</td>\n",
       "    </tr>\n",
       "    <tr>\n",
       "      <th>2022-09-27 00:00:00-03:00</th>\n",
       "      <td>17.819753</td>\n",
       "      <td>17.900974</td>\n",
       "      <td>17.727704</td>\n",
       "      <td>17.798094</td>\n",
       "      <td>17568400</td>\n",
       "      <td>0.0</td>\n",
       "      <td>0.0</td>\n",
       "    </tr>\n",
       "    <tr>\n",
       "      <th>2022-09-28 00:00:00-03:00</th>\n",
       "      <td>17.798093</td>\n",
       "      <td>17.868485</td>\n",
       "      <td>17.267453</td>\n",
       "      <td>17.673555</td>\n",
       "      <td>17529400</td>\n",
       "      <td>0.0</td>\n",
       "      <td>0.0</td>\n",
       "    </tr>\n",
       "    <tr>\n",
       "      <th>2022-09-29 00:00:00-03:00</th>\n",
       "      <td>17.494875</td>\n",
       "      <td>17.803512</td>\n",
       "      <td>17.354092</td>\n",
       "      <td>17.689802</td>\n",
       "      <td>24350900</td>\n",
       "      <td>0.0</td>\n",
       "      <td>0.0</td>\n",
       "    </tr>\n",
       "    <tr>\n",
       "      <th>2022-09-30 00:00:00-03:00</th>\n",
       "      <td>17.603169</td>\n",
       "      <td>18.247518</td>\n",
       "      <td>17.543609</td>\n",
       "      <td>17.911808</td>\n",
       "      <td>28412400</td>\n",
       "      <td>0.0</td>\n",
       "      <td>0.0</td>\n",
       "    </tr>\n",
       "    <tr>\n",
       "      <th>...</th>\n",
       "      <td>...</td>\n",
       "      <td>...</td>\n",
       "      <td>...</td>\n",
       "      <td>...</td>\n",
       "      <td>...</td>\n",
       "      <td>...</td>\n",
       "      <td>...</td>\n",
       "    </tr>\n",
       "    <tr>\n",
       "      <th>2025-09-22 00:00:00-03:00</th>\n",
       "      <td>33.500000</td>\n",
       "      <td>34.099998</td>\n",
       "      <td>33.349998</td>\n",
       "      <td>34.040001</td>\n",
       "      <td>6264100</td>\n",
       "      <td>0.0</td>\n",
       "      <td>0.0</td>\n",
       "    </tr>\n",
       "    <tr>\n",
       "      <th>2025-09-23 00:00:00-03:00</th>\n",
       "      <td>34.180000</td>\n",
       "      <td>35.099998</td>\n",
       "      <td>34.090000</td>\n",
       "      <td>34.939999</td>\n",
       "      <td>11811300</td>\n",
       "      <td>0.0</td>\n",
       "      <td>0.0</td>\n",
       "    </tr>\n",
       "    <tr>\n",
       "      <th>2025-09-24 00:00:00-03:00</th>\n",
       "      <td>35.290001</td>\n",
       "      <td>35.840000</td>\n",
       "      <td>35.009998</td>\n",
       "      <td>35.830002</td>\n",
       "      <td>10875100</td>\n",
       "      <td>0.0</td>\n",
       "      <td>0.0</td>\n",
       "    </tr>\n",
       "    <tr>\n",
       "      <th>2025-09-25 00:00:00-03:00</th>\n",
       "      <td>35.779999</td>\n",
       "      <td>36.020000</td>\n",
       "      <td>35.130001</td>\n",
       "      <td>35.200001</td>\n",
       "      <td>9525200</td>\n",
       "      <td>0.0</td>\n",
       "      <td>0.0</td>\n",
       "    </tr>\n",
       "    <tr>\n",
       "      <th>2025-09-26 00:00:00-03:00</th>\n",
       "      <td>35.320000</td>\n",
       "      <td>35.759998</td>\n",
       "      <td>34.849998</td>\n",
       "      <td>34.980000</td>\n",
       "      <td>7818900</td>\n",
       "      <td>0.0</td>\n",
       "      <td>0.0</td>\n",
       "    </tr>\n",
       "  </tbody>\n",
       "</table>\n",
       "<p>751 rows × 7 columns</p>\n",
       "</div>"
      ]
     },
     "execution_count": 13,
     "metadata": {},
     "output_type": "execute_result"
    }
   ],
   "execution_count": 13
  },
  {
   "metadata": {},
   "cell_type": "markdown",
   "source": "### Get current ibovespa tickers",
   "id": "1913e66299739d03"
  },
  {
   "metadata": {
    "ExecuteTime": {
     "end_time": "2025-09-29T08:22:36.642634Z",
     "start_time": "2025-09-29T08:22:36.635634Z"
    }
   },
   "cell_type": "code",
   "source": [
    "import pandas as pd\n",
    "\n",
    "file_path = \"data/instruments/ibovespa_composition.csv\"\n",
    "\n",
    "df = pd.read_csv(file_path, sep=\";\")\n",
    "\n",
    "ibovespa_ticker_names = df['ticker']\n",
    "ibovespa_ticker_names\n",
    "\n"
   ],
   "id": "5014b1c60fa7fd01",
   "outputs": [
    {
     "data": {
      "text/plain": [
       "0     ALOS3\n",
       "1     ABEV3\n",
       "2     ASAI3\n",
       "3     AURE3\n",
       "4     AZZA3\n",
       "      ...  \n",
       "77    VAMO3\n",
       "78    VBBR3\n",
       "79    VIVA3\n",
       "80    WEGE3\n",
       "81    YDUQ3\n",
       "Name: ticker, Length: 82, dtype: object"
      ]
     },
     "execution_count": 12,
     "metadata": {},
     "output_type": "execute_result"
    }
   ],
   "execution_count": 12
  },
  {
   "metadata": {},
   "cell_type": "markdown",
   "source": "### Download historical data for each ibovespa ticker",
   "id": "713e067965f1363b"
  },
  {
   "metadata": {
    "ExecuteTime": {
     "end_time": "2025-09-29T08:34:27.588382900Z",
     "start_time": "2025-09-29T08:33:07.867139Z"
    }
   },
   "cell_type": "code",
   "source": [
    "import os\n",
    "import time\n",
    "\n",
    "ibovespa_ticker_names = df['ticker']\n",
    "\n",
    "save_path = 'data/instruments/historical_data'\n",
    "\n",
    "os.makedirs(save_path, exist_ok=True)\n",
    "print(f\"Data will be saved in the directory: '{save_path}'\")\n",
    "\n",
    "for ticker_name in ibovespa_ticker_names:\n",
    "    print(f\"\\nProcessing ticker: {ticker_name}...\")\n",
    "    \n",
    "    try:\n",
    "        ticker = yf.Ticker(ticker_name + \".SA\")\n",
    "        \n",
    "        hist_data = ticker.history(period=\"3y\")\n",
    "        \n",
    "        if hist_data.empty:\n",
    "            print(f\"No data found for {ticker_name}. The ticker might be invalid or delisted.\")\n",
    "        else:\n",
    "            file_path = os.path.join(save_path, f\"{ticker_name}.csv\")\n",
    "            \n",
    "            hist_data.to_csv(file_path)\n",
    "            print(f\"Successfully saved data for {ticker_name} to {file_path}\")\n",
    "\n",
    "    except Exception as e:\n",
    "        print(f\"Could not download data for {ticker_name}. Error: {e}\")\n",
    "\n",
    "    # Wait for 10 seconds to avoid rate limit\n",
    "    print(\"Pausing for 10 seconds...\")\n",
    "    time.sleep(10)\n",
    "\n",
    "print(\"\\n--- Download Finished. All tickers have been processed. ---\")"
   ],
   "id": "b7defb1e85fcaa19",
   "outputs": [
    {
     "name": "stdout",
     "output_type": "stream",
     "text": [
      "Data will be saved in the directory: 'data/instruments/historical_data'\n",
      "\n",
      "Processing ticker: ALOS3...\n",
      "Successfully saved data for ALOS3 to data/instruments/historical_data\\ALOS3.csv\n",
      "Pausing for 10 seconds...\n",
      "\n",
      "Processing ticker: ABEV3...\n",
      "Successfully saved data for ABEV3 to data/instruments/historical_data\\ABEV3.csv\n",
      "Pausing for 10 seconds...\n",
      "\n",
      "Processing ticker: ASAI3...\n",
      "Successfully saved data for ASAI3 to data/instruments/historical_data\\ASAI3.csv\n",
      "Pausing for 10 seconds...\n",
      "\n",
      "Processing ticker: AURE3...\n",
      "Successfully saved data for AURE3 to data/instruments/historical_data\\AURE3.csv\n",
      "Pausing for 10 seconds...\n",
      "\n",
      "Processing ticker: AZZA3...\n",
      "Successfully saved data for AZZA3 to data/instruments/historical_data\\AZZA3.csv\n",
      "Pausing for 10 seconds...\n",
      "\n",
      "Processing ticker: B3SA3...\n",
      "Successfully saved data for B3SA3 to data/instruments/historical_data\\B3SA3.csv\n",
      "Pausing for 10 seconds...\n",
      "\n",
      "Processing ticker: BBSE3...\n",
      "Successfully saved data for BBSE3 to data/instruments/historical_data\\BBSE3.csv\n",
      "Pausing for 10 seconds...\n",
      "\n",
      "Processing ticker: BBDC3...\n",
      "Successfully saved data for BBDC3 to data/instruments/historical_data\\BBDC3.csv\n",
      "Pausing for 10 seconds...\n"
     ]
    },
    {
     "ename": "KeyboardInterrupt",
     "evalue": "",
     "output_type": "error",
     "traceback": [
      "\u001B[1;31m---------------------------------------------------------------------------\u001B[0m",
      "\u001B[1;31mKeyboardInterrupt\u001B[0m                         Traceback (most recent call last)",
      "Cell \u001B[1;32mIn[15], line 32\u001B[0m\n\u001B[0;32m     30\u001B[0m     \u001B[38;5;66;03m# Wait for 10 seconds to avoid rate limit\u001B[39;00m\n\u001B[0;32m     31\u001B[0m     \u001B[38;5;28mprint\u001B[39m(\u001B[38;5;124m\"\u001B[39m\u001B[38;5;124mPausing for 10 seconds...\u001B[39m\u001B[38;5;124m\"\u001B[39m)\n\u001B[1;32m---> 32\u001B[0m     \u001B[43mtime\u001B[49m\u001B[38;5;241;43m.\u001B[39;49m\u001B[43msleep\u001B[49m\u001B[43m(\u001B[49m\u001B[38;5;241;43m10\u001B[39;49m\u001B[43m)\u001B[49m\n\u001B[0;32m     34\u001B[0m \u001B[38;5;28mprint\u001B[39m(\u001B[38;5;124m\"\u001B[39m\u001B[38;5;130;01m\\n\u001B[39;00m\u001B[38;5;124m--- Download Finished. All tickers have been processed. ---\u001B[39m\u001B[38;5;124m\"\u001B[39m)\n",
      "\u001B[1;31mKeyboardInterrupt\u001B[0m: "
     ]
    }
   ],
   "execution_count": 15
  }
 ],
 "metadata": {
  "kernelspec": {
   "display_name": "Python 3",
   "language": "python",
   "name": "python3"
  },
  "language_info": {
   "codemirror_mode": {
    "name": "ipython",
    "version": 2
   },
   "file_extension": ".py",
   "mimetype": "text/x-python",
   "name": "python",
   "nbconvert_exporter": "python",
   "pygments_lexer": "ipython2",
   "version": "2.7.6"
  }
 },
 "nbformat": 4,
 "nbformat_minor": 5
}
